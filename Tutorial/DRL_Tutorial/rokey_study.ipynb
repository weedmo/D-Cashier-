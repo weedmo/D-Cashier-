{
 "cells": [
  {
   "cell_type": "markdown",
   "metadata": {},
   "source": [
    "<div align=\"left\" style=\"position: relative;\">\n",
    "<img src=\"https://image.rocketpunch.com/company/131793/spark-x_logo_1633693895.png?s=400x400&t=inside\" align=\"left\" width=\"30%\" style=\"margin: 20px 60px 50px 20px;\">\n",
    "<h1><strong>두산 로봇 교육 자료</strong></h1>\n",
    "<p align=\"left\">\n",
    "\t<em><code>❯ written by <strong>명학, 재승</strong></code></em>\n",
    "</p>\n",
    "<p align=\"left\">\n",
    "</p>\n",
    "<p align=\"left\">\n",
    "\t<!-- default option, no dependency badges. -->\n",
    "</p>\n",
    "</div>\n",
    "<br clear=\"right\">\n",
    "\n",
    "##  Table of Contents\n",
    "\n",
    "1. Get Ready\n",
    "2. movej & movel \n",
    "3. amovej & amovel\n",
    "4. get_current_posx()\n",
    "5. Mode Change\n",
    "6. Grip, Release (Digital IO, Modbus)\n",
    "7. Force Control\n",
    "8. Move Periodic\n",
    "\n",
    "---"
   ]
  },
  {
   "cell_type": "markdown",
   "metadata": {},
   "source": [
    "### 1. Get Ready\n",
    "두산 로봇 ROS2 패키지를 설치한다. (설치 링크: https://boundless-binder-063.notion.site/ROS-and-DR-1389786e552e800480e8d88cfb5f2fb5)\n",
    "\n",
    "다음 명령어로 m0609를 실행한다.\n",
    "* real  \n",
    "  `ros2 launch dsr_bringup2 dsr_bringup2_rviz.launch.py mode:=real host:=192.168.1.100 port:=12345 model:=m0609`\n",
    "* virtual  \n",
    "  `ros2 launch dsr_bringup2 dsr_bringup2_rviz.launch.py mode:=virtual host:=127.0.0.1 port:=12345 model:=m0609`\n",
    "\n",
    "터미널을 새로 열고 ros2_ws로 이동  \n",
    "`source install/setup.bash`를 하고 code . 으로 vscode를 실행한다.  \n",
    "그 다음 *.ipynb(주피터 노트북 파일)을 만들어 실습을 시작한다."
   ]
  },
  {
   "cell_type": "code",
   "execution_count": null,
   "metadata": {},
   "outputs": [],
   "source": [
    "#필요한 모듈 불러오기 및 로봇 기본 설정\n",
    "import sys, os\n",
    "sys.path.append(os.path.expanduser('~/ros2_ws/install/common2/lib/common2/imp'))\n",
    "import DR_init\n",
    "\n",
    "ROBOT_ID = \"dsr01\"\n",
    "ROBOT_MODEL = \"m0609\"\n",
    "VELOCITY, ACC = 60, 60\n",
    "\n",
    "DR_init.__dsr__id = ROBOT_ID\n",
    "DR_init.__dsr__model = ROBOT_MODEL"
   ]
  },
  {
   "cell_type": "code",
   "execution_count": 2,
   "metadata": {},
   "outputs": [],
   "source": [
    "#로봇 노드 실행\n",
    "import rclpy\n",
    "rclpy.init()\n",
    "node = rclpy.create_node(\"rokey_simple_move\", namespace=ROBOT_ID)\n",
    "\n",
    "DR_init.__dsr__node = node"
   ]
  },
  {
   "cell_type": "markdown",
   "metadata": {},
   "source": [
    "---"
   ]
  },
  {
   "cell_type": "markdown",
   "metadata": {},
   "source": [
    "### 2. movej & movel\n",
    "\n",
    "#### movej( [j1, j2, j3 ,4, j5, j6], vel, acc)  \n",
    "> 각 joint에 대해 각도를 지정하고 적절한 vel(속도)과 acc(가속도)를 설정하여 로봇을 움직인다.  \n",
    "#### movel( [x, y, z, rx, ry, rz], vel, acc)  \n",
    "> 로봇의 엔드포인트(그리퍼나 joint6)의 좌표를 지정하고 적절한 적절한 vel(속도)과 acc(가속도)를 설정하여 로봇을 움직인다.  \n",
    "#### movej vs movel  \n",
    "> movej는 joint의 각도를 직접적으로 제어하여 joint의 각도 제한 내에서는 특이점이 발생하지 않는다.  \n",
    "> movel은 목표 좌표에 대해서 역기구학으로 joint 제어를 계산하므로 특이점이 발생할 수 있다.  \n",
    "> movel의 좌표는 역기구학의 특성상 여러 개의 해가 존재할 수 있다.(같은 자세라도 좌표가 다를 수 있다.) \n",
    "\n",
    "<p align=\"left\">\n",
    "  <img src=\"movej.png\" width=\"20%\" />\n",
    "  <img src=\"movel.png\" width=\"20%\" />\n",
    "</p>\n"
   ]
  },
  {
   "cell_type": "code",
   "execution_count": 3,
   "metadata": {},
   "outputs": [
    {
     "name": "stdout",
     "output_type": "stream",
     "text": [
      "_robot_id =dsr01\n",
      "_robot_model =m0609\n",
      "_srv_name_prefix =\n",
      "_topic_name_prefix =\n"
     ]
    }
   ],
   "source": [
    "#movej와 movel 함수 가져오기\n",
    "try:\n",
    "    from DSR_ROBOT2 import (\n",
    "        movej,\n",
    "        movel,\n",
    "    )\n",
    "except ImportError as e:\n",
    "    print(f\"Error importing DSR_ROBOT2 : {e}\")"
   ]
  },
  {
   "cell_type": "code",
   "execution_count": 12,
   "metadata": {},
   "outputs": [
    {
     "data": {
      "text/plain": [
       "0"
      ]
     },
     "execution_count": 12,
     "metadata": {},
     "output_type": "execute_result"
    }
   ],
   "source": [
    "\n",
    "VELOCITY, ACC = 60, 60\n",
    "\n",
    "# Initial Pose : movej로 이동\n",
    "init_pose_j = [0, 0, 0, 0, 0, 0]\n",
    "movej(init_pose_j, vel=VELOCITY, acc=ACC)"
   ]
  },
  {
   "cell_type": "code",
   "execution_count": null,
   "metadata": {},
   "outputs": [
    {
     "data": {
      "text/plain": [
       "0"
      ]
     },
     "execution_count": 13,
     "metadata": {},
     "output_type": "execute_result"
    }
   ],
   "source": [
    "# Home Pose : movej로 이동\n",
    "home_pose_j = [0, 0, 90, 0, 90, 0]\n",
    "movej(home_pose_j, vel=VELOCITY, acc=ACC)"
   ]
  },
  {
   "cell_type": "code",
   "execution_count": 29,
   "metadata": {},
   "outputs": [
    {
     "data": {
      "text/plain": [
       "0"
      ]
     },
     "execution_count": 29,
     "metadata": {},
     "output_type": "execute_result"
    }
   ],
   "source": [
    "# Home Pose : movel로 이동\n",
    "home_pose_l = [350, 350, 450, 0, 180, 0]\n",
    "movel(home_pose_l, vel=VELOCITY, acc=ACC)\n"
   ]
  },
  {
   "cell_type": "code",
   "execution_count": 30,
   "metadata": {},
   "outputs": [
    {
     "data": {
      "text/plain": [
       "0"
      ]
     },
     "execution_count": 30,
     "metadata": {},
     "output_type": "execute_result"
    }
   ],
   "source": [
    "# Initial Pose : movel로 이동\n",
    "init_pose_l = [400, 300, 500, 0, 180, 0]\n",
    "movel(init_pose_l, vel=VELOCITY, acc=ACC)"
   ]
  },
  {
   "cell_type": "code",
   "execution_count": 31,
   "metadata": {},
   "outputs": [],
   "source": [
    "#home/init pose로 가는 함수는 movej로 정의하는 것이 더 유리하다.(더 직관적 표현, 특이점 회피, 빠른 이동 등)\n",
    "def go_home():\n",
    "    home_pose_j = [0, 0, 90, 0, 90, 0]\n",
    "    movej(home_pose_j, vel=VELOCITY, acc=ACC)\n",
    "\n",
    "def go_init():\n",
    "    init_pose_j = [0, 0, 0, 0, 0, 0]\n",
    "    movej(init_pose_j, vel=VELOCITY, acc=ACC)"
   ]
  },
  {
   "cell_type": "markdown",
   "metadata": {},
   "source": [
    "---"
   ]
  },
  {
   "cell_type": "markdown",
   "metadata": {},
   "source": [
    "### 3. amovej & amovel\n",
    "\n",
    "#### amovej( [j1, j2, j3 ,j4, j5, j6], vel, acc)  \n",
    "> 각 joint에 대해 각도를 지정하고 적절한 vel(속도)과 acc(가속도)를 설정하여 로봇을 **비동기로** 움직인다.  \n",
    "#### amovel( [x, y, z, rx, ry, rz], vel, acc)  \n",
    "> 로봇의 엔드포인트(그리퍼나 joint6)의 좌표를 지정하고 적절한 적절한 vel(속도)과 acc(가속도)를 설정하여 로봇을 **비동기로** 움직인다.  \n",
    "#### 동기 실행(sync) vs 비동기 실행(async)  \n",
    "> 동기 실행은 네트워크 통신이나 다른 기기를 제어할 때 그 작업이 끝나기를 기다리는 것  \n",
    "> 비동기 실행은 네트워크 통신이나 다른 기기를 제어할 때 그 작업을 실행한 뒤 곧이어 다른 코드를 실행하는 것\n",
    "\n"
   ]
  },
  {
   "cell_type": "markdown",
   "metadata": {},
   "source": [
    "---"
   ]
  },
  {
   "cell_type": "code",
   "execution_count": 32,
   "metadata": {},
   "outputs": [],
   "source": [
    "#movej와 movel 함수 가져오기\n",
    "try:\n",
    "    from DSR_ROBOT2 import (\n",
    "        amovej,\n",
    "        amovel,\n",
    "    )\n",
    "except ImportError as e:\n",
    "    print(f\"Error importing DSR_ROBOT2 : {e}\")"
   ]
  },
  {
   "cell_type": "code",
   "execution_count": 37,
   "metadata": {},
   "outputs": [
    {
     "name": "stdout",
     "output_type": "stream",
     "text": [
      "동기 movej 호출 전 시각: 1743412299.8661432\n",
      "동기 movej 호출 후 시각: 1743412302.6784039\n",
      "동기 movej 명령 완료 후 실행.\n",
      "\n",
      "비동기 amovej 호출 전 시각: 1743412305.498741\n",
      "비동기 amovej 호출 후 시각: 1743412305.5017266\n",
      "비동기 amovej 명령 호출 후 곧 바로 다음 코드 실행\n"
     ]
    }
   ],
   "source": [
    "import time\n",
    "\n",
    "# 동기 방식\n",
    "go_home()\n",
    "print(\"동기 movej 호출 전 시각:\", time.time())\n",
    "movej([0, 0, 0, 0, 0, 0], vel=60, acc=60)\n",
    "print(\"동기 movej 호출 후 시각:\", time.time())\n",
    "print(\"동기 movej 명령 완료 후 실행.\\n\")\n",
    "\n",
    "# 비동기 방식 예제\n",
    "go_home()\n",
    "print(\"비동기 amovej 호출 전 시각:\", time.time())\n",
    "amovej([0, 0, 0, 0, 0, 0], vel=60, acc=60)\n",
    "print(\"비동기 amovej 호출 후 시각:\", time.time())\n",
    "print(\"비동기 amovej 명령 호출 후 곧 바로 다음 코드 실행\")"
   ]
  },
  {
   "cell_type": "markdown",
   "metadata": {},
   "source": [
    "### 4. get_current_posx()\n",
    "\n",
    "#### conv_posx, sol = get_current_posx()\n",
    "* conv_posx : 현재 엔드이펙터의 위치  \n",
    "* sol : 엔드이펙터를 표현하는 좌표가 여러 개일 수 있는데 그 중 몇번째 좌표를 선택했는지"
   ]
  },
  {
   "cell_type": "code",
   "execution_count": 38,
   "metadata": {},
   "outputs": [],
   "source": [
    "#movej와 movel 함수 가져오기\n",
    "try:\n",
    "    from DSR_ROBOT2 import (\n",
    "        get_current_posx\n",
    "    )\n",
    "except ImportError as e:\n",
    "    print(f\"Error importing DSR_ROBOT2 : {e}\")"
   ]
  },
  {
   "cell_type": "code",
   "execution_count": null,
   "metadata": {},
   "outputs": [
    {
     "name": "stdout",
     "output_type": "stream",
     "text": [
      "[559.000, 34.500, 651.500, 45.000, 180.000, 45.000]\n"
     ]
    },
    {
     "data": {
      "text/plain": [
       "0"
      ]
     },
     "execution_count": 41,
     "metadata": {},
     "output_type": "execute_result"
    }
   ],
   "source": [
    "movej([0, 0, 90, 0, 90, 0], vel=VELOCITY, acc=ACC)\n",
    "current_pos = get_current_posx()[0] # [0]으로 하는 이유는 현재의 posx만 추출해내기 위함\n",
    "print(current_pos)\n",
    "current_pos[2] += 200 # z축으로 200만큼 위로 이동\n",
    "movel(current_pos, vel=VELOCITY, acc=ACC)"
   ]
  },
  {
   "cell_type": "markdown",
   "metadata": {},
   "source": [
    "### 5. Mode Change\n",
    "\n",
    "#### SetRobotMode\n",
    "로봇의 모드를 설정하기 위해 서비스를 호출할 수 있다. (virtual mode에서는 확인하기 힘듬)\n",
    "* mode=0 : 로봇 수동 제어(파란불)\n",
    "* mode=1 : 로봇 자동(원격) 제어(하얀불)"
   ]
  },
  {
   "cell_type": "code",
   "execution_count": null,
   "metadata": {},
   "outputs": [],
   "source": [
    "# 로봇 수동 제어 모드로 설정\n",
    "!ros2 service call /dsr01/system/set_robot_mode dsr_msgs2/srv/SetRobotMode \"{robot_mode: 0}\"\n",
    "\n",
    "# 로봇 자동 제어 모드로 설정\n",
    "!ros2 service call /dsr01/system/set_robot_mode dsr_msgs2/srv/SetRobotMode \"{robot_mode: 1}\""
   ]
  },
  {
   "cell_type": "code",
   "execution_count": null,
   "metadata": {},
   "outputs": [],
   "source": [
    "import rclpy\n",
    "from dsr_msgs2.srv import SetRobotMode\n",
    "\n",
    "def send_request(node, mode=0):\n",
    "    # 서비스 요청 메시지 생성 및 필드 설정\n",
    "    request = SetRobotMode.Request()\n",
    "    request.robot_mode = mode\n",
    "    future = node.client.call_async(request)\n",
    "    rclpy.spin_until_future_complete(node, future)\n",
    "    return future.result()\n",
    "\n",
    "\n",
    "node = rclpy.create_node('set_robot_mode_client')\n",
    "\n",
    "# 서비스 클라이언트 생성\n",
    "node.client = node.create_client(SetRobotMode, \"/dsr01/system/set_robot_mode\")\n",
    "\n",
    "# 서비스가 준비될 때까지 대기\n",
    "while not node.client.wait_for_service(timeout_sec=1.0):\n",
    "    print(\"Waiting for service...\")"
   ]
  },
  {
   "cell_type": "code",
   "execution_count": null,
   "metadata": {},
   "outputs": [],
   "source": [
    "# 서비스 요청 보내기 (예시로 mode=0을 전달)\n",
    "response = send_request(node, mode=0)\n",
    "print(\"Service response:\", response)"
   ]
  },
  {
   "cell_type": "code",
   "execution_count": null,
   "metadata": {},
   "outputs": [],
   "source": [
    "# 로봇 모드 확인하는 서비스 호출\n",
    "!ros2 service call /dsr01/system/get_robot_mode dsr_msgs2/srv/GetRobotMode"
   ]
  },
  {
   "cell_type": "code",
   "execution_count": null,
   "metadata": {},
   "outputs": [],
   "source": [
    "# 노드 종료 및 rclpy 종료\n",
    "node.destroy_node()\n",
    "rclpy.shutdown()"
   ]
  },
  {
   "cell_type": "markdown",
   "metadata": {},
   "source": [
    "### 6. Grip, Release (Digital IO, Modbus)\n",
    "\n",
    "![](rg2.jpeg)\n",
    "\n",
    "* 그리퍼 제어(virtual mode에서는 확인하기 힘듬)  \n",
    "  6-1. 그리퍼를 Digital IO로 연결했을 때  \n",
    "  6-2.  Modbus로 연결했을 때"
   ]
  },
  {
   "cell_type": "markdown",
   "metadata": {},
   "source": [
    "#### 6-1 Digital IO\n",
    "\n",
    "로봇의 제어기에 1번, 2번 IO에 핀을 꽂아서 연결"
   ]
  },
  {
   "cell_type": "code",
   "execution_count": null,
   "metadata": {},
   "outputs": [],
   "source": [
    "ON, OFF = 1, 0\n",
    "\n",
    "# 컨트롤러의 디지털 입력 신호 = 그리퍼의 디지털 출력 신호\n",
    "# 컨트롤러의 디지털 출력 신호 = 그리퍼의 디지털 입력 신호\n",
    "try:\n",
    "    from DSR_ROBOT2 import (\n",
    "        set_digital_output, # 컨트롤러에서 신호를 내보내어 그리퍼에 입력\n",
    "        get_digital_input, # 컨트롤러의 입력 신호 상태를 불러옴\n",
    "        set_tool,\n",
    "        set_tcp,\n",
    "        wait,\n",
    "    )\n",
    "except ImportError as e:\n",
    "    print(f\"Error importing DSR_ROBOT2 : {e}\")\n"
   ]
  },
  {
   "cell_type": "code",
   "execution_count": null,
   "metadata": {},
   "outputs": [],
   "source": [
    "def wait_digital_input(sig_num): # sig_num에 해당하는 핀이 ON(1)이 될 때까지 기다리기\n",
    "    while not get_digital_input(sig_num):\n",
    "        wait(0.5)\n",
    "        print(\"Wait for digital input\")\n",
    "        pass\n",
    "\n",
    "def release(): # 2번 핀을 ON, 1번 핀을 OFF 하면 그리퍼가 열림\n",
    "    set_digital_output(1, OFF)\n",
    "    set_digital_output(2, ON)\n",
    "    wait_digital_input(2) # 그리퍼의 동작이 끝날 때까지 다른 동작을 수행하지 못하게 하는 역할(작업 완료 시까지 대기)\n",
    "\n",
    "def grip(): # 1번 핀을 ON, 2번 핀을 OFF 하면 그리퍼가 열림\n",
    "    release()\n",
    "    set_digital_output(1, ON)\n",
    "    set_digital_output(2, OFF)\n",
    "    wait_digital_input(1)\n",
    "\n",
    "set_tool(\"Tool Weight_2FG\")\n",
    "set_tcp(\"2FG_TCP\")"
   ]
  },
  {
   "cell_type": "code",
   "execution_count": null,
   "metadata": {},
   "outputs": [],
   "source": [
    "grip()\n",
    "print(\"grip\")\n",
    "release()\n",
    "print(\"release\")"
   ]
  },
  {
   "cell_type": "markdown",
   "metadata": {},
   "source": [
    "#### 6-2. Modbus\n",
    "\n",
    "로봇을 랜선으로 연결하고 Modbus 프로토콜로 통신  \n",
    "* **Modbus란?**  \n",
    "그리퍼를 TCP/IP를 통해 데이터를 송수신할 수 있게 지원하는 프로토콜 중 하나이다.  \n",
    "그리퍼를 Modbus로 제어하면 더 자유롭게 제어할 수 있다.  \n",
    "\n",
    "~/ros2_ws/src/doosan-robot2/common2/imp 아래에 onrobot.py가 존재해야 함  \n",
    "다운받기 : [onrobot-gripper-modbus](https://github.com/takuya-ki/onrobot-rg)"
   ]
  },
  {
   "cell_type": "code",
   "execution_count": null,
   "metadata": {},
   "outputs": [],
   "source": [
    "#그리퍼 모듈 불러오기\n",
    "from onrobot import RG\n",
    "\n",
    "#그리퍼 관련 설정\n",
    "GRIPPER_NAME = \"rg2\"\n",
    "TOOLCHARGER_IP = \"192.168.1.1\"\n",
    "TOOLCHARGER_PORT = \"502\"\n",
    "\n",
    "#그리퍼 객체 생성\n",
    "gripper = RG(GRIPPER_NAME, TOOLCHARGER_IP, TOOLCHARGER_PORT)"
   ]
  },
  {
   "cell_type": "code",
   "execution_count": null,
   "metadata": {},
   "outputs": [],
   "source": [
    "#그리퍼 열기\n",
    "gripper.open_gripper()\n",
    "\n",
    "#그리퍼의 상태를 체크하고 동작 중이면 wait(동작이 끝날 때까지 기다리기)\n",
    "while gripper.get_status()[0]:\n",
    "\ttime.sleep(0.5)\n",
    "\n",
    "#그리퍼 닫기\n",
    "gripper.close_gripper()\n",
    "while gripper.get_status()[0]:\n",
    "\ttime.sleep(0.5)\n",
    "\n",
    "\n",
    "#그리퍼의 width를 직접 조정, 10N의 힘으로 조정\n",
    "gripper.move_gripper(width_val=40, force_val=10)\n",
    "while gripper.get_status()[0]:\n",
    "\ttime.sleep(0.5)\n",
    "\n",
    "#그리퍼의 현재 너비 출력\n",
    "print(f'get_width_with_offset: {gripper.get_width_with_offset()}')"
   ]
  },
  {
   "cell_type": "markdown",
   "metadata": {},
   "source": [
    "### 7. Force Control\n",
    "\n",
    "#### 기초 개념\n",
    "* 순응성 : 외부의 힘의 방향대로 움직이려는 특성  \n",
    "  <!-- 값이 클수록 더 유연하게 움직임(순응성 값이 클 때 내가 로봇을 밀면 더 많이 밀림) -->\n",
    "  용수철 원리처럼 설정된 강성에 따라 외력을 줄여주는 방향으로 순응하면서 모션 제어 수행\n",
    "\n",
    "  설정하는 강성(stiffness, N/m) 값이 낮을 수록 외력에 부드럽게 반응\n",
    "\n",
    "* 힘제어 : 외부의 힘을 감지 후 반력을 가하여 로봇을 제어  \n",
    "![](force_control.png)"
   ]
  },
  {
   "cell_type": "code",
   "execution_count": null,
   "metadata": {},
   "outputs": [],
   "source": [
    "try:\n",
    "    from DSR_ROBOT2 import (\n",
    "        release_compliance_ctrl,\n",
    "        check_force_condition,\n",
    "        task_compliance_ctrl,\n",
    "        set_desired_force,\n",
    "        DR_FC_MOD_REL,\n",
    "        DR_AXIS_Z,\n",
    "    )\n",
    "except ImportError as e:\n",
    "    print(f\"Error importing DSR_ROBOT2 : {e}\")"
   ]
  },
  {
   "cell_type": "code",
   "execution_count": null,
   "metadata": {},
   "outputs": [],
   "source": [
    "go_home()\n",
    "\n",
    "#stx : x, y, z, rx, ry, rz에 대한 강성 설정\n",
    "task_compliance_ctrl(stx=[500, 500, 500, 100, 100, 100])\n",
    "\n",
    "# x, y, z, rx, ry, rz\n",
    "# fd: 원하는 힘 벡터 (Z축으로 -10N으로 밀기). fd가 음수이므로 아래 방향으로 10N의 힘으로 로봇 밀기\n",
    "# dir: 힘이 적용될 방향 (Z축). 0: 해당 방향 순응 제어, 1: 해당 방향 힘 제어\n",
    "# mod=DR_FC_MOD_REL: 상대 모드, 로봇 TCP 기준 방향\n",
    "set_desired_force(fd=[0, 0, -10, 0, 0, 0], dir=[0, 0, 1, 0, 0, 0], mod=DR_FC_MOD_REL)\n",
    "\n",
    "# Z축 방향에 5N 이상의 힘이 감지될 때까지 대기\n",
    "# check_force_condition()이 True가 되면 루프 탈출\n",
    "while not check_force_condition(DR_AXIS_Z, max=5):\n",
    "    pass\n",
    "\n",
    "# 힘 제어 해제, 이후 로봇은 다시 기본 모드로 복귀\n",
    "release_compliance_ctrl()"
   ]
  },
  {
   "cell_type": "markdown",
   "metadata": {},
   "source": [
    "### 8. Move Periodic\n",
    "설정한 진폭만큼 sin함수를 따라 움직임  \n",
    "\n",
    "진폭을 10으로 설정하면 처음위치 -> +10 위치 -> 처음위치 -> -10 위치 -> 처음위치를 왕복운동함 \n",
    "\n",
    "move_periodic(amp, period, atime, repeat, ref): 동기 방식\n",
    "<!-- #### amove_periodic(amp=[j1, j2, j3, j4, j5, j6], period, repeat) -->\n",
    "amove_periodic(amp, period, atime, repeat, ref): 비동기 방식 \n",
    "\n",
    "* amp(진폭) : 각 축 (x, y, z, rx, ry, rz)이 움직이는 폭의 정도\n",
    "* period(주기) : 왕복 운동을 하는 주기\n",
    "* atime(가감속시간): 주기모션의 시작과 끝의 가속 및 감속 시간, 입력된 가감속시간과 최대주기*1/4 중 큰 값이 적용됨. default 값은 0.0\n",
    "* repeat(횟수) : 왕복 운동의 횟수. default 값은 1\n",
    "* ref(기준 좌표계)\n",
    "    - DR_BASE : base coordinate\n",
    "    - DR_WORLD : world coordinate\n",
    "    - DR_TOOL : tool coordinate (default)\n",
    "    - user coordinate : 사용자 정의\n",
    "\n",
    "![](movePeriodic.png)"
   ]
  },
  {
   "cell_type": "code",
   "execution_count": null,
   "metadata": {},
   "outputs": [],
   "source": [
    "try:\n",
    "    from DSR_ROBOT2 import (\n",
    "        amove_periodic,\n",
    "        DR_TOOL,\n",
    "    )\n",
    "except ImportError as e:\n",
    "    print(f\"Error importing DSR_ROBOT2 : {e}\")"
   ]
  },
  {
   "cell_type": "code",
   "execution_count": null,
   "metadata": {},
   "outputs": [],
   "source": [
    "go_home()\n",
    "amove_periodic(amp=[30, 0, 0, 0, 0, 0], period=2.0, repeat=3)"
   ]
  }
 ],
 "metadata": {
  "kernelspec": {
   "display_name": "Python 3",
   "language": "python",
   "name": "python3"
  },
  "language_info": {
   "codemirror_mode": {
    "name": "ipython",
    "version": 3
   },
   "file_extension": ".py",
   "mimetype": "text/x-python",
   "name": "python",
   "nbconvert_exporter": "python",
   "pygments_lexer": "ipython3",
   "version": "3.10.12"
  }
 },
 "nbformat": 4,
 "nbformat_minor": 2
}
