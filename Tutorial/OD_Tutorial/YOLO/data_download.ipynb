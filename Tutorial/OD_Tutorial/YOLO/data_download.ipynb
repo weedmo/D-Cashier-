{
 "cells": [
  {
   "cell_type": "code",
   "execution_count": 1,
   "metadata": {},
   "outputs": [
    {
     "name": "stdout",
     "output_type": "stream",
     "text": [
      "Defaulting to user installation because normal site-packages is not writeable\n",
      "Requirement already satisfied: roboflow in /home/rokey/.local/lib/python3.10/site-packages (1.1.66)\n",
      "Requirement already satisfied: kiwisolver>=1.3.1 in /usr/lib/python3/dist-packages (from roboflow) (1.3.2)\n",
      "Requirement already satisfied: python-dateutil in /home/rokey/.local/lib/python3.10/site-packages (from roboflow) (2.9.0.post0)\n",
      "Requirement already satisfied: requests in /home/rokey/.local/lib/python3.10/site-packages (from roboflow) (2.32.3)\n",
      "Requirement already satisfied: certifi in /usr/lib/python3/dist-packages (from roboflow) (2020.6.20)\n",
      "Requirement already satisfied: filetype in /home/rokey/.local/lib/python3.10/site-packages (from roboflow) (1.2.0)\n",
      "Requirement already satisfied: tqdm>=4.41.0 in /home/rokey/.local/lib/python3.10/site-packages (from roboflow) (4.67.1)\n",
      "Requirement already satisfied: requests-toolbelt in /home/rokey/.local/lib/python3.10/site-packages (from roboflow) (1.0.0)\n",
      "Requirement already satisfied: matplotlib in /home/rokey/.local/lib/python3.10/site-packages (from roboflow) (3.10.3)\n",
      "Requirement already satisfied: cycler in /usr/lib/python3/dist-packages (from roboflow) (0.11.0)\n",
      "Requirement already satisfied: idna==3.7 in /home/rokey/.local/lib/python3.10/site-packages (from roboflow) (3.7)\n",
      "Requirement already satisfied: Pillow>=7.1.2 in /home/rokey/.local/lib/python3.10/site-packages (from roboflow) (11.2.1)\n",
      "Requirement already satisfied: pillow-heif>=0.18.0 in /home/rokey/.local/lib/python3.10/site-packages (from roboflow) (0.22.0)\n",
      "Collecting opencv-python-headless==4.10.0.84\n",
      "  Using cached opencv_python_headless-4.10.0.84-cp37-abi3-manylinux_2_17_x86_64.manylinux2014_x86_64.whl (49.9 MB)\n",
      "Requirement already satisfied: six in /usr/lib/python3/dist-packages (from roboflow) (1.16.0)\n",
      "Requirement already satisfied: urllib3>=1.26.6 in /home/rokey/.local/lib/python3.10/site-packages (from roboflow) (2.4.0)\n",
      "Requirement already satisfied: numpy>=1.18.5 in /home/rokey/.local/lib/python3.10/site-packages (from roboflow) (1.26.4)\n",
      "Requirement already satisfied: python-dotenv in /home/rokey/.local/lib/python3.10/site-packages (from roboflow) (1.1.0)\n",
      "Requirement already satisfied: PyYAML>=5.3.1 in /usr/lib/python3/dist-packages (from roboflow) (5.4.1)\n",
      "Requirement already satisfied: packaging>=20.0 in /home/rokey/.local/lib/python3.10/site-packages (from matplotlib->roboflow) (24.2)\n",
      "Requirement already satisfied: fonttools>=4.22.0 in /usr/lib/python3/dist-packages (from matplotlib->roboflow) (4.29.1)\n",
      "Requirement already satisfied: contourpy>=1.0.1 in /home/rokey/.local/lib/python3.10/site-packages (from matplotlib->roboflow) (1.3.2)\n",
      "Requirement already satisfied: pyparsing>=2.3.1 in /usr/lib/python3/dist-packages (from matplotlib->roboflow) (2.4.7)\n",
      "Requirement already satisfied: charset-normalizer<4,>=2 in /home/rokey/.local/lib/python3.10/site-packages (from requests->roboflow) (3.4.2)\n",
      "Installing collected packages: opencv-python-headless\n",
      "Successfully installed opencv-python-headless-4.10.0.84\n"
     ]
    }
   ],
   "source": [
    "!pip install roboflow"
   ]
  },
  {
   "cell_type": "code",
   "execution_count": 2,
   "metadata": {},
   "outputs": [
    {
     "name": "stdout",
     "output_type": "stream",
     "text": [
      "loading Roboflow workspace...\n",
      "loading Roboflow project...\n"
     ]
    },
    {
     "name": "stderr",
     "output_type": "stream",
     "text": [
      "Downloading Dataset Version Zip in Mechanical-tools-10000-3 to yolov11:: 100%|██████████| 331724/331724 [00:17<00:00, 19346.46it/s]"
     ]
    },
    {
     "name": "stdout",
     "output_type": "stream",
     "text": [
      "\n"
     ]
    },
    {
     "name": "stderr",
     "output_type": "stream",
     "text": [
      "\n",
      "Extracting Dataset Version Zip to Mechanical-tools-10000-3 in yolov11:: 100%|██████████| 18616/18616 [00:00<00:00, 23999.93it/s]\n"
     ]
    }
   ],
   "source": [
    "#  https://universe.roboflow.com/mechanical-tools/mechanical-tools-10000/dataset/3\n",
    "\n",
    "from roboflow import Roboflow\n",
    "rf = Roboflow(api_key=\"VdSAW2AYQwYTDKpXCsFo\")\n",
    "project = rf.workspace(\"mechanical-tools\").project(\"mechanical-tools-10000\")\n",
    "version = project.version(3)\n",
    "dataset = version.download(\"yolov11\")"
   ]
  },
  {
   "cell_type": "code",
   "execution_count": 3,
   "metadata": {},
   "outputs": [
    {
     "name": "stdout",
     "output_type": "stream",
     "text": [
      "{\n",
      "  \"settings_version\": \"0.0.6\",\n",
      "  \"datasets_dir\": \"/home/rokey/Tutorial/ultralytics_ws/datasets\",\n",
      "  \"weights_dir\": \"weights\",\n",
      "  \"runs_dir\": \"runs\",\n",
      "  \"uuid\": \"f0a2fa04bed254523786e685055f46015e610111eb4c8364142ba1e0d50feb71\",\n",
      "  \"sync\": true,\n",
      "  \"api_key\": \"\",\n",
      "  \"openai_api_key\": \"\",\n",
      "  \"clearml\": true,\n",
      "  \"comet\": true,\n",
      "  \"dvc\": true,\n",
      "  \"hub\": true,\n",
      "  \"mlflow\": true,\n",
      "  \"neptune\": true,\n",
      "  \"raytune\": true,\n",
      "  \"tensorboard\": false,\n",
      "  \"wandb\": false,\n",
      "  \"vscode_msg\": true,\n",
      "  \"openvino_msg\": true\n",
      "}"
     ]
    }
   ],
   "source": [
    "!cat ~/.config/Ultralytics/settings.json"
   ]
  },
  {
   "cell_type": "code",
   "execution_count": null,
   "metadata": {},
   "outputs": [],
   "source": []
  }
 ],
 "metadata": {
  "kernelspec": {
   "display_name": "Python 3",
   "language": "python",
   "name": "python3"
  },
  "language_info": {
   "codemirror_mode": {
    "name": "ipython",
    "version": 3
   },
   "file_extension": ".py",
   "mimetype": "text/x-python",
   "name": "python",
   "nbconvert_exporter": "python",
   "pygments_lexer": "ipython3",
   "version": "3.10.12"
  }
 },
 "nbformat": 4,
 "nbformat_minor": 2
}
